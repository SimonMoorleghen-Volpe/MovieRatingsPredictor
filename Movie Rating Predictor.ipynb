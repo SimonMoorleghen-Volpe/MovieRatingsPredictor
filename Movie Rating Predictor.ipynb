{
 "cells": [
  {
   "cell_type": "code",
   "execution_count": 1,
   "id": "5e1d14c5",
   "metadata": {},
   "outputs": [],
   "source": [
    "from sklearn.neural_network import MLPClassifier\n",
    "from sklearn.model_selection import train_test_split\n",
    "import pandas as pd"
   ]
  },
  {
   "cell_type": "code",
   "execution_count": 27,
   "id": "8e56df5d",
   "metadata": {},
   "outputs": [],
   "source": [
    "genreList = []\n",
    "removedCharacters = [\"'\", '[', ']', ' ']\n",
    "cutOffScore = 5"
   ]
  },
  {
   "cell_type": "code",
   "execution_count": 3,
   "id": "fe9d38c9",
   "metadata": {},
   "outputs": [],
   "source": [
    "def genreEnumerator(lis):\n",
    "    for x in range(len(lis)):\n",
    "        if lis[x] in genreList:\n",
    "            lis[x] = genreList.index(lis[x])\n",
    "        else:\n",
    "            genreList.append(lis[x])\n",
    "            lis[x] = genreList.index(lis[x])\n",
    "    while len(lis) < 8:\n",
    "        lis.append(-1)\n",
    "    return lis"
   ]
  },
  {
   "cell_type": "code",
   "execution_count": 4,
   "id": "6cd56fa1",
   "metadata": {},
   "outputs": [],
   "source": [
    "def stringToList(string):\n",
    "    new = string\n",
    "    for chara in removedCharacters:\n",
    "        new = new.replace(chara, '')\n",
    "    return new.split(',')"
   ]
  },
  {
   "cell_type": "code",
   "execution_count": 5,
   "id": "5d1981b0",
   "metadata": {},
   "outputs": [],
   "source": [
    "def extractmonth(string):\n",
    "    lis = string.split('-')\n",
    "    return float(lis[1])"
   ]
  },
  {
   "cell_type": "code",
   "execution_count": 6,
   "id": "15146c74",
   "metadata": {},
   "outputs": [],
   "source": [
    "dataset = pd.read_csv('movieDataset.csv')"
   ]
  },
  {
   "cell_type": "code",
   "execution_count": 28,
   "id": "88aa900d",
   "metadata": {},
   "outputs": [],
   "source": [
    "train, test = train_test_split(dataset, test_size=0.2)"
   ]
  },
  {
   "cell_type": "code",
   "execution_count": 29,
   "id": "9dbef32d",
   "metadata": {},
   "outputs": [],
   "source": [
    "datasetRef = train.filter(['Title', 'Vote Count', 'Release Date'], axis=1)\n",
    "dataGenre = train.filter(['Genre'], axis=1)\n",
    "dataGenre = dataGenre['Genre'].apply(stringToList)\n",
    "dataGenre.apply(genreEnumerator)\n",
    "datGenre = pd.DataFrame(columns=['Genre 1', 'Genre 2', 'Genre 3', 'Genre 4', 'Genre 5', 'Genre 6', 'Genre 7', 'Genre 8'], data=dataGenre.tolist(), index=dataGenre.index)\n",
    "datasetRating = train.filter(['Vote Average'], axis=1)\n",
    "overviewRef = train['Overview']\n",
    "overviewRef = overviewRef.str.count(' ') + 1\n",
    "overviewRef = pd.DataFrame(overviewRef)\n",
    "datasetRating = datasetRating.squeeze()"
   ]
  },
  {
   "cell_type": "code",
   "execution_count": 30,
   "id": "dfd70b44",
   "metadata": {},
   "outputs": [],
   "source": [
    "datasetRef['OverviewWordCount'] = overviewRef\n",
    "datasetRef['Title'] = datasetRef['Title'].apply(len)"
   ]
  },
  {
   "cell_type": "code",
   "execution_count": 31,
   "id": "734c4053",
   "metadata": {},
   "outputs": [],
   "source": [
    "datasetRef= datasetRef.join(datGenre)\n",
    "datasetRef['Release Date'] = datasetRef['Release Date'].apply(extractmonth)"
   ]
  },
  {
   "cell_type": "code",
   "execution_count": 32,
   "id": "9cc62159",
   "metadata": {},
   "outputs": [],
   "source": [
    "datasetRating = datasetRating.apply(lambda x: x > cutOffScore)"
   ]
  },
  {
   "cell_type": "code",
   "execution_count": 33,
   "id": "3eea4485",
   "metadata": {},
   "outputs": [],
   "source": [
    "mlp = MLPClassifier(max_iter = 200, solver='adam', tol=1e-5, hidden_layer_sizes=(20,))"
   ]
  },
  {
   "cell_type": "code",
   "execution_count": 34,
   "id": "9c6001de",
   "metadata": {},
   "outputs": [
    {
     "data": {
      "text/plain": [
       "MLPClassifier(hidden_layer_sizes=(20,), tol=1e-05)"
      ]
     },
     "execution_count": 34,
     "metadata": {},
     "output_type": "execute_result"
    }
   ],
   "source": [
    "mlp.fit(datasetRef, datasetRating)"
   ]
  },
  {
   "cell_type": "code",
   "execution_count": 35,
   "id": "bdb40837",
   "metadata": {},
   "outputs": [],
   "source": [
    "testsetRef = test.filter(['Title', 'Vote Count', 'Release Date'], axis=1)\n",
    "\n",
    "testGenre = test.filter(['Genre'], axis=1)\n",
    "testGenre = testGenre['Genre'].apply(stringToList)\n",
    "testGenre.apply(genreEnumerator)\n",
    "tesGenre = pd.DataFrame(columns=['Genre 1', 'Genre 2', 'Genre 3', 'Genre 4', 'Genre 5', 'Genre 6', 'Genre 7', 'Genre 8'], data=testGenre.tolist(), index=testGenre.index)\n",
    "testsetRating = test.filter(['Vote Average'], axis=1)\n",
    "testviewRef = test['Overview']\n",
    "testviewRef = testviewRef.str.count(' ') + 1\n",
    "testviewRef = pd.DataFrame(testviewRef)\n",
    "testsetRating = testsetRating.squeeze()\n",
    "testsetRef['OverviewWordCount'] = testviewRef\n",
    "testsetRef['Title'] = testsetRef['Title'].apply(len)\n",
    "\n",
    "testsetRef= testsetRef.join(tesGenre)\n",
    "\n",
    "testsetRef['Release Date'] = testsetRef['Release Date'].apply(extractmonth)\n",
    "testsetRating = testsetRating.apply(lambda x: x > cutOffScore)"
   ]
  },
  {
   "cell_type": "code",
   "execution_count": 36,
   "id": "eeb2dffe",
   "metadata": {},
   "outputs": [
    {
     "data": {
      "text/plain": [
       "0.8025622481661329"
      ]
     },
     "execution_count": 36,
     "metadata": {},
     "output_type": "execute_result"
    }
   ],
   "source": [
    "mlp.score(testsetRef, testsetRating)"
   ]
  },
  {
   "cell_type": "code",
   "execution_count": 37,
   "id": "52f76a54",
   "metadata": {},
   "outputs": [
    {
     "data": {
      "text/plain": [
       "True     0.6106\n",
       "False    0.3894\n",
       "Name: Vote Average, dtype: float64"
      ]
     },
     "execution_count": 37,
     "metadata": {},
     "output_type": "execute_result"
    }
   ],
   "source": [
    "testsetRating.value_counts(normalize=True)"
   ]
  },
  {
   "cell_type": "code",
   "execution_count": null,
   "id": "336b04ea",
   "metadata": {},
   "outputs": [],
   "source": []
  }
 ],
 "metadata": {
  "kernelspec": {
   "display_name": "Python 3 (ipykernel)",
   "language": "python",
   "name": "python3"
  },
  "language_info": {
   "codemirror_mode": {
    "name": "ipython",
    "version": 3
   },
   "file_extension": ".py",
   "mimetype": "text/x-python",
   "name": "python",
   "nbconvert_exporter": "python",
   "pygments_lexer": "ipython3",
   "version": "3.9.7"
  }
 },
 "nbformat": 4,
 "nbformat_minor": 5
}
